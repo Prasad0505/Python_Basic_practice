{
  "nbformat": 4,
  "nbformat_minor": 0,
  "metadata": {
    "colab": {
      "provenance": [],
      "authorship_tag": "ABX9TyMct88jrRgPipDCIyVfs8A9",
      "include_colab_link": true
    },
    "kernelspec": {
      "name": "python3",
      "display_name": "Python 3"
    },
    "language_info": {
      "name": "python"
    }
  },
  "cells": [
    {
      "cell_type": "markdown",
      "metadata": {
        "id": "view-in-github",
        "colab_type": "text"
      },
      "source": [
        "<a href=\"https://colab.research.google.com/github/Prasad0505/Python_Basic_practice/blob/main/Python_basic_pratice.ipynb\" target=\"_parent\"><img src=\"https://colab.research.google.com/assets/colab-badge.svg\" alt=\"Open In Colab\"/></a>"
      ]
    },
    {
      "cell_type": "code",
      "execution_count": 1,
      "metadata": {
        "colab": {
          "base_uri": "https://localhost:8080/"
        },
        "id": "pWZUN493ximA",
        "outputId": "a71f8980-f666-45d2-ab71-05e5d93c8914"
      },
      "outputs": [
        {
          "output_type": "stream",
          "name": "stdout",
          "text": [
            "hello world\n"
          ]
        }
      ],
      "source": [
        "print(\"hello world\")"
      ]
    },
    {
      "cell_type": "code",
      "source": [
        "pi=3.14\n",
        "num=float(input(\"Enter radius of circle:\"))\n",
        "\n",
        "Area=pi*num*num\n",
        "print(\"Area of circle is\",Area)\n"
      ],
      "metadata": {
        "colab": {
          "base_uri": "https://localhost:8080/"
        },
        "id": "6HVr-WSExppI",
        "outputId": "bb11d2b1-0bd7-49e9-c336-9c96688e90be"
      },
      "execution_count": null,
      "outputs": [
        {
          "output_type": "stream",
          "name": "stdout",
          "text": [
            "Enter radius of circle:5\n",
            "Area of circle is 78.5\n"
          ]
        }
      ]
    },
    {
      "cell_type": "code",
      "source": [],
      "metadata": {
        "id": "9sY-uQjGy_I9"
      },
      "execution_count": null,
      "outputs": []
    },
    {
      "cell_type": "markdown",
      "source": [],
      "metadata": {
        "id": "zRDDAyFZ00-o"
      }
    },
    {
      "cell_type": "code",
      "source": [
        "a=5\n",
        "b=6\n",
        "c=7\n",
        "if a>b:\n",
        "     print(\"a is greater\")\n",
        "elif a>c:\n",
        "     print(\"a is greater\")\n",
        "elif b>c:\n",
        "     print(\"b is greater\")\n",
        "else:\n",
        "   print(\"c is greater\")\n",
        "   \n"
      ],
      "metadata": {
        "colab": {
          "base_uri": "https://localhost:8080/"
        },
        "id": "oQ9HCSGQ2OtU",
        "outputId": "47903779-6f52-4990-8d02-73ca10c67de4"
      },
      "execution_count": null,
      "outputs": [
        {
          "output_type": "stream",
          "name": "stdout",
          "text": [
            "c is greater\n"
          ]
        }
      ]
    },
    {
      "cell_type": "code",
      "source": [
        "for i in range(20):\n",
        "  print(i)"
      ],
      "metadata": {
        "colab": {
          "base_uri": "https://localhost:8080/"
        },
        "id": "E7ziHg1m4ug_",
        "outputId": "d6e7a634-08a8-4a2d-ddad-82573996a94a"
      },
      "execution_count": null,
      "outputs": [
        {
          "output_type": "stream",
          "name": "stdout",
          "text": [
            "0\n",
            "1\n",
            "2\n",
            "3\n",
            "4\n",
            "5\n",
            "6\n",
            "7\n",
            "8\n",
            "9\n",
            "10\n",
            "11\n",
            "12\n",
            "13\n",
            "14\n",
            "15\n",
            "16\n",
            "17\n",
            "18\n",
            "19\n"
          ]
        }
      ]
    },
    {
      "cell_type": "code",
      "source": [
        "n=4\n",
        "n=n+1\n",
        "for i in range(2,n):\n",
        "                    if(n%i==0):\n",
        "                      print(\"not prime\")\n",
        "                      break\n",
        "                    else:\n",
        "                     print(\"It is prime Number\")\n",
        "                     break"
      ],
      "metadata": {
        "colab": {
          "base_uri": "https://localhost:8080/"
        },
        "id": "vDpx_dlU7HJa",
        "outputId": "dbda443b-fb61-4b27-9870-6793ef2fd975"
      },
      "execution_count": 3,
      "outputs": [
        {
          "output_type": "stream",
          "name": "stdout",
          "text": [
            "It is prime Number\n"
          ]
        }
      ]
    },
    {
      "cell_type": "code",
      "source": [
        "n=5\n",
        "n+=2\n",
        "print(n)"
      ],
      "metadata": {
        "colab": {
          "base_uri": "https://localhost:8080/"
        },
        "id": "C4No1MW5-ydU",
        "outputId": "1e0a2e81-d2a2-4598-b4a2-f11664ff0618"
      },
      "execution_count": null,
      "outputs": [
        {
          "output_type": "stream",
          "name": "stdout",
          "text": [
            "7\n"
          ]
        }
      ]
    },
    {
      "cell_type": "code",
      "source": [
        "\n",
        "n=334\n",
        "sum=0\n",
        "while(n!=0):\n",
        "            \n",
        "             sum=sum+(n%10)\n",
        "             n=n//10\n",
        "\n",
        "print(sum)\n",
        "             "
      ],
      "metadata": {
        "colab": {
          "base_uri": "https://localhost:8080/"
        },
        "id": "A-mrS_CW_4HY",
        "outputId": "ee347296-950f-41bb-8b61-f135e2fc59aa"
      },
      "execution_count": null,
      "outputs": [
        {
          "output_type": "stream",
          "name": "stdout",
          "text": [
            "10\n"
          ]
        }
      ]
    },
    {
      "cell_type": "code",
      "source": [
        "n=334\n",
        "sum = 0\n",
        "while (n != 0):\n",
        "                   n=n%10\n",
        "                   sum = sum + n\n",
        "                   n = n//10\n",
        "\n",
        "                   print(sum)"
      ],
      "metadata": {
        "colab": {
          "base_uri": "https://localhost:8080/"
        },
        "id": "AMMkpyliHt7f",
        "outputId": "9440bcf0-0acc-486e-f1cd-83ec6eff2e09"
      },
      "execution_count": null,
      "outputs": [
        {
          "output_type": "stream",
          "name": "stdout",
          "text": [
            "4\n"
          ]
        }
      ]
    },
    {
      "cell_type": "code",
      "source": [
        "string1=str(input('Enter the string:'))\n",
        "d={}\n",
        "for i in string1:\n",
        "    if i in d:\n",
        "      print(i)\n"
      ],
      "metadata": {
        "colab": {
          "base_uri": "https://localhost:8080/"
        },
        "id": "uUjicyYcCTcC",
        "outputId": "71fcc181-5f72-4db5-df40-062b88b3be51"
      },
      "execution_count": null,
      "outputs": [
        {
          "name": "stdout",
          "output_type": "stream",
          "text": [
            "Enter the string:prasad\n"
          ]
        }
      ]
    },
    {
      "cell_type": "code",
      "source": [
        "s=input(\"Enter Some String:\")\n",
        "d={}\n",
        "for x in s:\n",
        "  if x in d.keys():\n",
        "                  print(x,d[x])\n",
        "                  d[x]=d[x]+1\n",
        "  else:\n",
        "     d[x]=1\n",
        "for k,v in d.items():\n",
        "   print(\"{} = {} Times\".format(k,v))\n",
        "\n",
        "print(d)"
      ],
      "metadata": {
        "colab": {
          "base_uri": "https://localhost:8080/"
        },
        "id": "zou4bBfRNx_S",
        "outputId": "6c9004be-914c-45cc-8752-5a1dfeba13c6"
      },
      "execution_count": null,
      "outputs": [
        {
          "output_type": "stream",
          "name": "stdout",
          "text": [
            "Enter Some String:prasad\n",
            "a 1\n",
            "p = 1 Times\n",
            "r = 1 Times\n",
            "a = 2 Times\n",
            "s = 1 Times\n",
            "d = 1 Times\n",
            "{'p': 1, 'r': 1, 'a': 2, 's': 1, 'd': 1}\n"
          ]
        }
      ]
    },
    {
      "cell_type": "code",
      "source": [
        "s='prasad'\n",
        "for i in s:\n",
        "                 print(i)"
      ],
      "metadata": {
        "colab": {
          "base_uri": "https://localhost:8080/"
        },
        "id": "pVvx2mlTOmco",
        "outputId": "39beeb22-ee57-4c82-a0eb-9715cae560f5"
      },
      "execution_count": 5,
      "outputs": [
        {
          "output_type": "stream",
          "name": "stdout",
          "text": [
            "p\n",
            "r\n",
            "a\n",
            "s\n",
            "a\n",
            "d\n"
          ]
        }
      ]
    },
    {
      "cell_type": "code",
      "source": [],
      "metadata": {
        "id": "pgzVxY42-7ql"
      },
      "execution_count": null,
      "outputs": []
    },
    {
      "cell_type": "code",
      "source": [
        "d={}\n",
        "\n",
        "if x not in d.keys():\n",
        "                       print(x)\n",
        "                       d[x]=4\n",
        "                       d[x]=d[x]+1\n",
        "print(d)\n"
      ],
      "metadata": {
        "colab": {
          "base_uri": "https://localhost:8080/"
        },
        "id": "FaXdBvGpOziw",
        "outputId": "aa8f5f08-4922-486a-a2fc-c9f3b5cc501f"
      },
      "execution_count": null,
      "outputs": [
        {
          "output_type": "stream",
          "name": "stdout",
          "text": [
            "d\n",
            "{'d': 5}\n"
          ]
        }
      ]
    },
    {
      "cell_type": "code",
      "source": [
        "#for i in range(1,6):\n",
        " # for j in range(1,i):\n",
        "   #    print(\"*\",end=\"\")\n",
        "       \n",
        " # print(\"\\n\")\n",
        "\n",
        "for i in range(1,5):\n",
        "                    print(\"*\"*i)\n",
        "                        "
      ],
      "metadata": {
        "colab": {
          "base_uri": "https://localhost:8080/"
        },
        "id": "s3vuzwQHTOLf",
        "outputId": "d10c4935-f19b-4764-fcad-024ecae3bfbc"
      },
      "execution_count": null,
      "outputs": [
        {
          "output_type": "stream",
          "name": "stdout",
          "text": [
            "*\n",
            "**\n",
            "***\n",
            "****\n"
          ]
        }
      ]
    },
    {
      "cell_type": "code",
      "source": [
        "N=int(input(\"Enter The number:\"))\n",
        "fac=1\n",
        "for i in range(N,0,-1):\n",
        "                        fac=fac*i\n",
        "                        \n",
        "\n",
        "print(f\"The factorial of {N} is :\",fac)\n"
      ],
      "metadata": {
        "colab": {
          "base_uri": "https://localhost:8080/"
        },
        "id": "kk0Pol2Gu68E",
        "outputId": "e13ce902-3ce8-4a8e-c1c3-0020ea2ede82"
      },
      "execution_count": 11,
      "outputs": [
        {
          "output_type": "stream",
          "name": "stdout",
          "text": [
            "Enter The number:5\n",
            "The factorial of 5 is : 120\n"
          ]
        }
      ]
    },
    {
      "cell_type": "code",
      "source": [
        "n=int(input(\"number:\"))\n",
        "p=n\n",
        "fact=1\n",
        "while(n>0):\n",
        "            fact=fact*n\n",
        "            n=n-1\n",
        "\n",
        "print(f\"The factorial of {p} is :\",fact)"
      ],
      "metadata": {
        "colab": {
          "base_uri": "https://localhost:8080/"
        },
        "id": "NywLGGnTK87_",
        "outputId": "815390ea-c1d5-4632-fc28-082300a86b79"
      },
      "execution_count": 15,
      "outputs": [
        {
          "output_type": "stream",
          "name": "stdout",
          "text": [
            "number:6\n",
            "The factorial of 6 is : 720\n"
          ]
        }
      ]
    },
    {
      "cell_type": "code",
      "source": [
        "p=1200\n",
        "r=5.4\n",
        "t=2\n",
        "A= p*(1+r/100)**t\n",
        "ci=A-p\n",
        "print(ci)\n",
        "\n",
        "\n"
      ],
      "metadata": {
        "colab": {
          "base_uri": "https://localhost:8080/"
        },
        "id": "x9B-jQuyQ32N",
        "outputId": "d861cfc2-a848-4785-e64e-fb978ccaddac"
      },
      "execution_count": null,
      "outputs": [
        {
          "output_type": "stream",
          "name": "stdout",
          "text": [
            "133.0992000000001\n"
          ]
        }
      ]
    },
    {
      "cell_type": "markdown",
      "source": [
        "fabinocii series:"
      ],
      "metadata": {
        "id": "JaZE_qt6xMlJ"
      }
    },
    {
      "cell_type": "code",
      "source": [
        "\n",
        "n=7\n",
        "n1=0\n",
        "n2=1\n",
        "sum=0\n",
        "for i in range(0,n):\n",
        "      print(sum,end=' ')\n",
        "      n1=n2\n",
        "      n2=sum\n",
        "      sum=n1+n2\n",
        "\n",
        "  "
      ],
      "metadata": {
        "colab": {
          "base_uri": "https://localhost:8080/"
        },
        "id": "oPNhhqNixT_z",
        "outputId": "042b30fa-e2df-4969-856f-990f50e1026c"
      },
      "execution_count": null,
      "outputs": [
        {
          "output_type": "stream",
          "name": "stdout",
          "text": [
            "0 1 1 2 3 5 8 "
          ]
        }
      ]
    },
    {
      "cell_type": "code",
      "source": [
        "#Program to print mutiplication of two numbers without using * oprator\n",
        "num1=int(input(\"Enter number1:\"))\n",
        "num2=int(input(\"Enter number2:\"))\n",
        "result=0\n",
        "for i  in range(1,num2+1):\n",
        "                       result=result+num1\n",
        "\n",
        "\n",
        "print(\"The multiplication of two numbers without using * oprator is:\",result)\n"
      ],
      "metadata": {
        "colab": {
          "base_uri": "https://localhost:8080/"
        },
        "id": "oI4ZLNGUEPOL",
        "outputId": "79ef7389-54fd-4aec-a119-c1f3fb81d13c"
      },
      "execution_count": null,
      "outputs": [
        {
          "output_type": "stream",
          "name": "stdout",
          "text": [
            "Enter number1:3\n",
            "Enter number2:4\n",
            "The multiplication of two numbers without using * oprator is: 12\n"
          ]
        }
      ]
    },
    {
      "cell_type": "code",
      "source": [
        "import math\n",
        "#Proram to print iven number is fabonacii or not\n",
        "num=int(input(\"Enter any integer number:\"))\n",
        "c=5*(num**2)+4\n",
        "d=5*(num**2)-4\n",
        "\n",
        "g=int(math.sqrt(c))\n",
        "m=int(math.sqrt(d))\n",
        "\n",
        "if g*g==c or m*m==d:\n",
        "          print(\"The given number is fabonacii\")\n",
        "\n",
        "else:\n",
        "          print(\"The given number is not fabonacii\")"
      ],
      "metadata": {
        "colab": {
          "base_uri": "https://localhost:8080/"
        },
        "id": "k5Bd9u3GIRJX",
        "outputId": "7afb34ab-ecca-46b3-f283-6ecffc2cc8dc"
      },
      "execution_count": null,
      "outputs": [
        {
          "output_type": "stream",
          "name": "stdout",
          "text": [
            "Enter any integer number:4\n",
            "The given number is not fabonacii\n"
          ]
        }
      ]
    },
    {
      "cell_type": "code",
      "source": [
        "b=2\n",
        "a=3\n",
        "if (b==2 and a==3):\n",
        "                    print(\"hello programer\")"
      ],
      "metadata": {
        "colab": {
          "base_uri": "https://localhost:8080/"
        },
        "id": "AP-GR6NrOAnc",
        "outputId": "d85b5a13-3df3-47c1-8da3-d91ac909dda6"
      },
      "execution_count": 17,
      "outputs": [
        {
          "output_type": "stream",
          "name": "stdout",
          "text": [
            "hello programer\n"
          ]
        }
      ]
    },
    {
      "cell_type": "code",
      "source": [],
      "metadata": {
        "id": "NPlLyuvgxL7I"
      },
      "execution_count": null,
      "outputs": []
    }
  ]
}